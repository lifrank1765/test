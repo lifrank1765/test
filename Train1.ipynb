{
 "cells": [
  {
   "cell_type": "code",
   "execution_count": 1,
   "id": "5f7b2d2e-ff2b-4500-a89d-72dfdfd87051",
   "metadata": {},
   "outputs": [],
   "source": [
    "import pickle\n",
    "import sktime\n",
    "from sklearn.model_selection import GridSearchCV\n",
    "import tensorflow as tf\n",
    "from tensorflow import keras\n",
    "from sklearn.metrics import confusion_matrix\n",
    "from sktime.classification.deep_learning.cnn import CNNClassifier\n",
    "from sktime.classification.deep_learning.cntc import CNTCClassifier\n",
    "from sktime.classification.deep_learning.fcn import FCNClassifier\n",
    "from sktime.classification.deep_learning.inceptiontime import InceptionTimeClassifier\n",
    "from sktime.classification.deep_learning.lstmfcn import LSTMFCNClassifier\n",
    "from sktime.classification.deep_learning.macnn import MACNNClassifier\n",
    "from sktime.classification.deep_learning.mcdcnn import MCDCNNClassifier\n",
    "from sktime.classification.deep_learning.mlp import MLPClassifier\n",
    "from sktime.classification.deep_learning.resnet import ResNetClassifier\n",
    "from sktime.classification.deep_learning.rnn import SimpleRNNClassifier\n",
    "from sktime.classification.deep_learning.tapnet import TapNetClassifier\n",
    "import numpy as np"
   ]
  },
  {
   "cell_type": "code",
   "execution_count": 2,
   "id": "ca3b296f-6803-4666-ba75-5b52c29f8d3a",
   "metadata": {},
   "outputs": [],
   "source": [
    "file = open(\"\",'rb')\n",
    "p = pickle.load(file)"
   ]
  },
  {
   "cell_type": "code",
   "execution_count": 3,
   "id": "c3fe9086-5594-4f42-8fe2-ad97f97f4542",
   "metadata": {},
   "outputs": [],
   "source": [
    "X_train = p['tx'][:,:,:3]\n",
    "y_train = p['ty']\n",
    "X_valid = p['vx'][:,:,:3]\n",
    "y_valid = p['vy']\n",
    "y_columns_walk_other = p['y_columns_walk_other']\n",
    "X_columns_walk_other = p['x_columns_walk_other'][:,:,:3]\n",
    "X_train = X_train.transpose(0, 2, 1)\n",
    "X_valid = X_valid.transpose(0, 2, 1)\n",
    "\n",
    "X_valid_columns_walk_other = X_columns_walk_other\n",
    "\n",
    "pre_name = \"model_20240404_\"\n",
    "def convertH5TFlite(name):\n",
    "    model = tf.keras.models.load_model(name, compile=False)\n",
    "    \n",
    "    # Converting a tf.Keras model to a TensorFlow Lite model.\n",
    "    converter = tf.lite.TFLiteConverter.from_keras_model(model)\n",
    "    tflite_model = converter.convert()\n",
    "    \n",
    "    # Save the TF Lite model.\n",
    "    with tf.io.gfile.GFile(name.replace('h5','tflite'), 'wb') as f:\n",
    "      f.write(tflite_model)\n",
    "        "
   ]
  },
  {
   "cell_type": "code",
   "execution_count": 4,
   "id": "6f97421a-8527-4ef3-984e-ea95ee9ae5a2",
   "metadata": {
    "scrolled": true
   },
   "outputs": [
    {
     "name": "stdout",
     "output_type": "stream",
     "text": [
      "Model: \"model\"\n",
      "_________________________________________________________________\n",
      " Layer (type)                Output Shape              Param #   \n",
      "=================================================================\n",
      " input_1 (InputLayer)        [(None, 200, 3)]          0         \n",
      "                                                                 \n",
      " conv1d (Conv1D)             (None, 194, 6)            132       \n",
      "                                                                 \n",
      " average_pooling1d (AverageP  (None, 64, 6)            0         \n",
      " ooling1D)                                                       \n",
      "                                                                 \n",
      " conv1d_1 (Conv1D)           (None, 58, 12)            516       \n",
      "                                                                 \n",
      " average_pooling1d_1 (Averag  (None, 19, 12)           0         \n",
      " ePooling1D)                                                     \n",
      "                                                                 \n",
      " flatten (Flatten)           (None, 228)               0         \n",
      "                                                                 \n",
      " dense (Dense)               (None, 2)                 458       \n",
      "                                                                 \n",
      "=================================================================\n",
      "Total params: 1,106\n",
      "Trainable params: 1,106\n",
      "Non-trainable params: 0\n",
      "_________________________________________________________________\n",
      "Epoch 1/10\n",
      " 808/3525 [=====>........................] - ETA: 19s - loss: 0.4224 - accuracy: 0.7949"
     ]
    },
    {
     "ename": "KeyboardInterrupt",
     "evalue": "",
     "output_type": "error",
     "traceback": [
      "\u001b[1;31m---------------------------------------------------------------------------\u001b[0m",
      "\u001b[1;31mKeyboardInterrupt\u001b[0m                         Traceback (most recent call last)",
      "Cell \u001b[1;32mIn[4], line 2\u001b[0m\n\u001b[0;32m      1\u001b[0m cnn_network \u001b[38;5;241m=\u001b[39m CNNClassifier(n_epochs\u001b[38;5;241m=\u001b[39m\u001b[38;5;241m10\u001b[39m, verbose\u001b[38;5;241m=\u001b[39m\u001b[38;5;28;01mTrue\u001b[39;00m)\n\u001b[1;32m----> 2\u001b[0m \u001b[43mcnn_network\u001b[49m\u001b[38;5;241;43m.\u001b[39;49m\u001b[43mfit\u001b[49m\u001b[43m(\u001b[49m\u001b[43mX_train\u001b[49m\u001b[43m,\u001b[49m\u001b[43my_train\u001b[49m\u001b[43m)\u001b[49m\n\u001b[0;32m      4\u001b[0m name \u001b[38;5;241m=\u001b[39m pre_name\u001b[38;5;241m+\u001b[39m\u001b[38;5;124m\"\u001b[39m\u001b[38;5;124mcnn.h5\u001b[39m\u001b[38;5;124m\"\u001b[39m    \n\u001b[0;32m      5\u001b[0m cnn_network\u001b[38;5;241m.\u001b[39mmodel_\u001b[38;5;241m.\u001b[39msave(name)\n",
      "File \u001b[1;32m~\\miniconda3\\envs\\tfgpu\\lib\\site-packages\\sktime\\classification\\base.py:262\u001b[0m, in \u001b[0;36mBaseClassifier.fit\u001b[1;34m(self, X, y)\u001b[0m\n\u001b[0;32m    257\u001b[0m         \u001b[38;5;28;01mraise\u001b[39;00m \u001b[38;5;167;01mAttributeError\u001b[39;00m(\n\u001b[0;32m    258\u001b[0m             \u001b[38;5;124m\"\u001b[39m\u001b[38;5;124mself.n_jobs must be set if capability:multithreading is True\u001b[39m\u001b[38;5;124m\"\u001b[39m\n\u001b[0;32m    259\u001b[0m         )\n\u001b[0;32m    261\u001b[0m \u001b[38;5;66;03m# pass coerced and checked data to inner _fit\u001b[39;00m\n\u001b[1;32m--> 262\u001b[0m \u001b[38;5;28;43mself\u001b[39;49m\u001b[38;5;241;43m.\u001b[39;49m\u001b[43m_fit\u001b[49m\u001b[43m(\u001b[49m\u001b[43mX\u001b[49m\u001b[43m,\u001b[49m\u001b[43m \u001b[49m\u001b[43my\u001b[49m\u001b[43m)\u001b[49m\n\u001b[0;32m    263\u001b[0m \u001b[38;5;28mself\u001b[39m\u001b[38;5;241m.\u001b[39mfit_time_ \u001b[38;5;241m=\u001b[39m \u001b[38;5;28mint\u001b[39m(\u001b[38;5;28mround\u001b[39m(time\u001b[38;5;241m.\u001b[39mtime() \u001b[38;5;241m*\u001b[39m \u001b[38;5;241m1000\u001b[39m)) \u001b[38;5;241m-\u001b[39m start\n\u001b[0;32m    265\u001b[0m \u001b[38;5;66;03m# this should happen last: fitted state is set to True\u001b[39;00m\n",
      "File \u001b[1;32m~\\miniconda3\\envs\\tfgpu\\lib\\site-packages\\sktime\\classification\\deep_learning\\cnn.py:192\u001b[0m, in \u001b[0;36mCNNClassifier._fit\u001b[1;34m(self, X, y)\u001b[0m\n\u001b[0;32m    190\u001b[0m \u001b[38;5;28;01mif\u001b[39;00m \u001b[38;5;28mself\u001b[39m\u001b[38;5;241m.\u001b[39mverbose:\n\u001b[0;32m    191\u001b[0m     \u001b[38;5;28mself\u001b[39m\u001b[38;5;241m.\u001b[39mmodel_\u001b[38;5;241m.\u001b[39msummary()\n\u001b[1;32m--> 192\u001b[0m \u001b[38;5;28mself\u001b[39m\u001b[38;5;241m.\u001b[39mhistory \u001b[38;5;241m=\u001b[39m \u001b[38;5;28;43mself\u001b[39;49m\u001b[38;5;241;43m.\u001b[39;49m\u001b[43mmodel_\u001b[49m\u001b[38;5;241;43m.\u001b[39;49m\u001b[43mfit\u001b[49m\u001b[43m(\u001b[49m\n\u001b[0;32m    193\u001b[0m \u001b[43m    \u001b[49m\u001b[43mX\u001b[49m\u001b[43m,\u001b[49m\n\u001b[0;32m    194\u001b[0m \u001b[43m    \u001b[49m\u001b[43my_onehot\u001b[49m\u001b[43m,\u001b[49m\n\u001b[0;32m    195\u001b[0m \u001b[43m    \u001b[49m\u001b[43mbatch_size\u001b[49m\u001b[38;5;241;43m=\u001b[39;49m\u001b[38;5;28;43mself\u001b[39;49m\u001b[38;5;241;43m.\u001b[39;49m\u001b[43mbatch_size\u001b[49m\u001b[43m,\u001b[49m\n\u001b[0;32m    196\u001b[0m \u001b[43m    \u001b[49m\u001b[43mepochs\u001b[49m\u001b[38;5;241;43m=\u001b[39;49m\u001b[38;5;28;43mself\u001b[39;49m\u001b[38;5;241;43m.\u001b[39;49m\u001b[43mn_epochs\u001b[49m\u001b[43m,\u001b[49m\n\u001b[0;32m    197\u001b[0m \u001b[43m    \u001b[49m\u001b[43mverbose\u001b[49m\u001b[38;5;241;43m=\u001b[39;49m\u001b[38;5;28;43mself\u001b[39;49m\u001b[38;5;241;43m.\u001b[39;49m\u001b[43mverbose\u001b[49m\u001b[43m,\u001b[49m\n\u001b[0;32m    198\u001b[0m \u001b[43m    \u001b[49m\u001b[43mcallbacks\u001b[49m\u001b[38;5;241;43m=\u001b[39;49m\u001b[43mdeepcopy\u001b[49m\u001b[43m(\u001b[49m\u001b[38;5;28;43mself\u001b[39;49m\u001b[38;5;241;43m.\u001b[39;49m\u001b[43mcallbacks\u001b[49m\u001b[43m)\u001b[49m\u001b[43m \u001b[49m\u001b[38;5;28;43;01mif\u001b[39;49;00m\u001b[43m \u001b[49m\u001b[38;5;28;43mself\u001b[39;49m\u001b[38;5;241;43m.\u001b[39;49m\u001b[43mcallbacks\u001b[49m\u001b[43m \u001b[49m\u001b[38;5;28;43;01melse\u001b[39;49;00m\u001b[43m \u001b[49m\u001b[43m[\u001b[49m\u001b[43m]\u001b[49m\u001b[43m,\u001b[49m\n\u001b[0;32m    199\u001b[0m \u001b[43m\u001b[49m\u001b[43m)\u001b[49m\n\u001b[0;32m    200\u001b[0m \u001b[38;5;28;01mreturn\u001b[39;00m \u001b[38;5;28mself\u001b[39m\n",
      "File \u001b[1;32m~\\miniconda3\\envs\\tfgpu\\lib\\site-packages\\keras\\utils\\traceback_utils.py:65\u001b[0m, in \u001b[0;36mfilter_traceback.<locals>.error_handler\u001b[1;34m(*args, **kwargs)\u001b[0m\n\u001b[0;32m     63\u001b[0m filtered_tb \u001b[38;5;241m=\u001b[39m \u001b[38;5;28;01mNone\u001b[39;00m\n\u001b[0;32m     64\u001b[0m \u001b[38;5;28;01mtry\u001b[39;00m:\n\u001b[1;32m---> 65\u001b[0m     \u001b[38;5;28;01mreturn\u001b[39;00m fn(\u001b[38;5;241m*\u001b[39margs, \u001b[38;5;241m*\u001b[39m\u001b[38;5;241m*\u001b[39mkwargs)\n\u001b[0;32m     66\u001b[0m \u001b[38;5;28;01mexcept\u001b[39;00m \u001b[38;5;167;01mException\u001b[39;00m \u001b[38;5;28;01mas\u001b[39;00m e:\n\u001b[0;32m     67\u001b[0m     filtered_tb \u001b[38;5;241m=\u001b[39m _process_traceback_frames(e\u001b[38;5;241m.\u001b[39m__traceback__)\n",
      "File \u001b[1;32m~\\miniconda3\\envs\\tfgpu\\lib\\site-packages\\keras\\engine\\training.py:1555\u001b[0m, in \u001b[0;36mModel.fit\u001b[1;34m(self, x, y, batch_size, epochs, verbose, callbacks, validation_split, validation_data, shuffle, class_weight, sample_weight, initial_epoch, steps_per_epoch, validation_steps, validation_batch_size, validation_freq, max_queue_size, workers, use_multiprocessing)\u001b[0m\n\u001b[0;32m   1551\u001b[0m \u001b[38;5;28;01mwith\u001b[39;00m data_handler\u001b[38;5;241m.\u001b[39mcatch_stop_iteration():\n\u001b[0;32m   1552\u001b[0m     data_handler\u001b[38;5;241m.\u001b[39m_initial_step \u001b[38;5;241m=\u001b[39m data_handler\u001b[38;5;241m.\u001b[39m_initial_step \u001b[38;5;129;01mor\u001b[39;00m (\n\u001b[0;32m   1553\u001b[0m         \u001b[38;5;28mself\u001b[39m\u001b[38;5;241m.\u001b[39m_maybe_load_initial_step_from_ckpt()\n\u001b[0;32m   1554\u001b[0m     )\n\u001b[1;32m-> 1555\u001b[0m     \u001b[38;5;28;01mfor\u001b[39;00m step \u001b[38;5;129;01min\u001b[39;00m data_handler\u001b[38;5;241m.\u001b[39msteps():\n\u001b[0;32m   1556\u001b[0m         \u001b[38;5;28;01mwith\u001b[39;00m tf\u001b[38;5;241m.\u001b[39mprofiler\u001b[38;5;241m.\u001b[39mexperimental\u001b[38;5;241m.\u001b[39mTrace(\n\u001b[0;32m   1557\u001b[0m             \u001b[38;5;124m\"\u001b[39m\u001b[38;5;124mtrain\u001b[39m\u001b[38;5;124m\"\u001b[39m,\n\u001b[0;32m   1558\u001b[0m             epoch_num\u001b[38;5;241m=\u001b[39mepoch,\n\u001b[1;32m   (...)\u001b[0m\n\u001b[0;32m   1561\u001b[0m             _r\u001b[38;5;241m=\u001b[39m\u001b[38;5;241m1\u001b[39m,\n\u001b[0;32m   1562\u001b[0m         ):\n\u001b[0;32m   1563\u001b[0m             callbacks\u001b[38;5;241m.\u001b[39mon_train_batch_begin(step)\n",
      "File \u001b[1;32m~\\miniconda3\\envs\\tfgpu\\lib\\site-packages\\keras\\engine\\data_adapter.py:1374\u001b[0m, in \u001b[0;36mDataHandler.steps\u001b[1;34m(self)\u001b[0m\n\u001b[0;32m   1372\u001b[0m \u001b[38;5;28;01mif\u001b[39;00m \u001b[38;5;28mself\u001b[39m\u001b[38;5;241m.\u001b[39m_insufficient_data:  \u001b[38;5;66;03m# Set by `catch_stop_iteration`.\u001b[39;00m\n\u001b[0;32m   1373\u001b[0m     \u001b[38;5;28;01mbreak\u001b[39;00m\n\u001b[1;32m-> 1374\u001b[0m original_spe \u001b[38;5;241m=\u001b[39m \u001b[38;5;28;43mself\u001b[39;49m\u001b[38;5;241;43m.\u001b[39;49m\u001b[43m_steps_per_execution\u001b[49m\u001b[38;5;241;43m.\u001b[39;49m\u001b[43mnumpy\u001b[49m\u001b[43m(\u001b[49m\u001b[43m)\u001b[49m\u001b[38;5;241m.\u001b[39mitem()\n\u001b[0;32m   1375\u001b[0m can_run_full_execution \u001b[38;5;241m=\u001b[39m (\n\u001b[0;32m   1376\u001b[0m     original_spe \u001b[38;5;241m==\u001b[39m \u001b[38;5;241m1\u001b[39m\n\u001b[0;32m   1377\u001b[0m     \u001b[38;5;129;01mor\u001b[39;00m \u001b[38;5;28mself\u001b[39m\u001b[38;5;241m.\u001b[39m_inferred_steps \u001b[38;5;129;01mis\u001b[39;00m \u001b[38;5;28;01mNone\u001b[39;00m\n\u001b[0;32m   1378\u001b[0m     \u001b[38;5;129;01mor\u001b[39;00m \u001b[38;5;28mself\u001b[39m\u001b[38;5;241m.\u001b[39m_inferred_steps \u001b[38;5;241m-\u001b[39m \u001b[38;5;28mself\u001b[39m\u001b[38;5;241m.\u001b[39m_current_step \u001b[38;5;241m>\u001b[39m\u001b[38;5;241m=\u001b[39m original_spe\n\u001b[0;32m   1379\u001b[0m )\n\u001b[0;32m   1381\u001b[0m \u001b[38;5;28;01mif\u001b[39;00m can_run_full_execution:\n",
      "File \u001b[1;32m~\\miniconda3\\envs\\tfgpu\\lib\\site-packages\\tensorflow\\python\\ops\\resource_variable_ops.py:637\u001b[0m, in \u001b[0;36mBaseResourceVariable.numpy\u001b[1;34m(self)\u001b[0m\n\u001b[0;32m    635\u001b[0m \u001b[38;5;28;01mdef\u001b[39;00m \u001b[38;5;21mnumpy\u001b[39m(\u001b[38;5;28mself\u001b[39m):\n\u001b[0;32m    636\u001b[0m   \u001b[38;5;28;01mif\u001b[39;00m context\u001b[38;5;241m.\u001b[39mexecuting_eagerly():\n\u001b[1;32m--> 637\u001b[0m     \u001b[38;5;28;01mreturn\u001b[39;00m \u001b[38;5;28;43mself\u001b[39;49m\u001b[38;5;241;43m.\u001b[39;49m\u001b[43mread_value\u001b[49m\u001b[43m(\u001b[49m\u001b[43m)\u001b[49m\u001b[38;5;241;43m.\u001b[39;49m\u001b[43mnumpy\u001b[49m\u001b[43m(\u001b[49m\u001b[43m)\u001b[49m\n\u001b[0;32m    638\u001b[0m   \u001b[38;5;28;01mraise\u001b[39;00m \u001b[38;5;167;01mNotImplementedError\u001b[39;00m(\n\u001b[0;32m    639\u001b[0m       \u001b[38;5;124m\"\u001b[39m\u001b[38;5;124mnumpy() is only available when eager execution is enabled.\u001b[39m\u001b[38;5;124m\"\u001b[39m)\n",
      "File \u001b[1;32m~\\miniconda3\\envs\\tfgpu\\lib\\site-packages\\tensorflow\\python\\framework\\ops.py:1157\u001b[0m, in \u001b[0;36m_EagerTensorBase.numpy\u001b[1;34m(self)\u001b[0m\n\u001b[0;32m   1134\u001b[0m \u001b[38;5;250m\u001b[39m\u001b[38;5;124;03m\"\"\"Copy of the contents of this Tensor into a NumPy array or scalar.\u001b[39;00m\n\u001b[0;32m   1135\u001b[0m \n\u001b[0;32m   1136\u001b[0m \u001b[38;5;124;03mUnlike NumPy arrays, Tensors are immutable, so this method has to copy\u001b[39;00m\n\u001b[1;32m   (...)\u001b[0m\n\u001b[0;32m   1154\u001b[0m \u001b[38;5;124;03m    NumPy dtype.\u001b[39;00m\n\u001b[0;32m   1155\u001b[0m \u001b[38;5;124;03m\"\"\"\u001b[39;00m\n\u001b[0;32m   1156\u001b[0m \u001b[38;5;66;03m# TODO(slebedev): Consider avoiding a copy for non-CPU or remote tensors.\u001b[39;00m\n\u001b[1;32m-> 1157\u001b[0m maybe_arr \u001b[38;5;241m=\u001b[39m \u001b[38;5;28;43mself\u001b[39;49m\u001b[38;5;241;43m.\u001b[39;49m\u001b[43m_numpy\u001b[49m\u001b[43m(\u001b[49m\u001b[43m)\u001b[49m  \u001b[38;5;66;03m# pylint: disable=protected-access\u001b[39;00m\n\u001b[0;32m   1158\u001b[0m \u001b[38;5;28;01mreturn\u001b[39;00m maybe_arr\u001b[38;5;241m.\u001b[39mcopy() \u001b[38;5;28;01mif\u001b[39;00m \u001b[38;5;28misinstance\u001b[39m(maybe_arr, np\u001b[38;5;241m.\u001b[39mndarray) \u001b[38;5;28;01melse\u001b[39;00m maybe_arr\n",
      "File \u001b[1;32m~\\miniconda3\\envs\\tfgpu\\lib\\site-packages\\tensorflow\\python\\framework\\ops.py:1123\u001b[0m, in \u001b[0;36m_EagerTensorBase._numpy\u001b[1;34m(self)\u001b[0m\n\u001b[0;32m   1121\u001b[0m \u001b[38;5;28;01mdef\u001b[39;00m \u001b[38;5;21m_numpy\u001b[39m(\u001b[38;5;28mself\u001b[39m):\n\u001b[0;32m   1122\u001b[0m   \u001b[38;5;28;01mtry\u001b[39;00m:\n\u001b[1;32m-> 1123\u001b[0m     \u001b[38;5;28;01mreturn\u001b[39;00m \u001b[38;5;28;43mself\u001b[39;49m\u001b[38;5;241;43m.\u001b[39;49m\u001b[43m_numpy_internal\u001b[49m\u001b[43m(\u001b[49m\u001b[43m)\u001b[49m\n\u001b[0;32m   1124\u001b[0m   \u001b[38;5;28;01mexcept\u001b[39;00m core\u001b[38;5;241m.\u001b[39m_NotOkStatusException \u001b[38;5;28;01mas\u001b[39;00m e:  \u001b[38;5;66;03m# pylint: disable=protected-access\u001b[39;00m\n\u001b[0;32m   1125\u001b[0m     \u001b[38;5;28;01mraise\u001b[39;00m core\u001b[38;5;241m.\u001b[39m_status_to_exception(e) \u001b[38;5;28;01mfrom\u001b[39;00m \u001b[38;5;28;01mNone\u001b[39;00m\n",
      "\u001b[1;31mKeyboardInterrupt\u001b[0m: "
     ]
    }
   ],
   "source": [
    "cnn_network = CNNClassifier(n_epochs=10, verbose=True)\n",
    "cnn_network.fit(X_train,y_train)\n",
    "\n",
    "name = pre_name+\"cnn.h5\"    \n",
    "cnn_network.model_.save(name)\n",
    "convertH5TFlite(name)\n"
   ]
  },
  {
   "cell_type": "code",
   "execution_count": null,
   "id": "fe45a259-818d-4dc1-ae8d-c7b4e7e6cb1a",
   "metadata": {},
   "outputs": [],
   "source": [
    "y_columns_walk_other_p = cnn_network.model_.predict(X_columns_walk_other)\n",
    "print(confusion_matrix(y_columns_walk_other,np.argmax(y_columns_walk_other_p,axis=1) ))\n",
    "\n",
    "y_valid_p = cnn_network.model_.predict(X_valid.transpose(0, 2, 1))\n",
    "print(confusion_matrix(y_valid,np.argmax(y_valid_p,axis=1) ))\n",
    "\n"
   ]
  },
  {
   "cell_type": "code",
   "execution_count": null,
   "id": "e13499c8-e5a5-478c-953c-85584e96775a",
   "metadata": {},
   "outputs": [],
   "source": [
    "'''\n",
    "param_grid = {\"kernel_size\": [7, 9], \"avg_pool_size\": [3, 5]}\n",
    "cnn_network = CNNClassifier(n_epochs=10, verbose=False)\n",
    "grid = GridSearchCV(cnn_network, param_grid=param_grid, cv=3)\n",
    "grid.fit(X_train, y_train)\n",
    "\n",
    "print(\"Best cross-validation accuracy: {:.2f}\".format(grid.best_score_))\n",
    "print(\"Test set score: {:.2f}\".format(grid.score(X_valid, y_valid)))\n",
    "print(\"Best parameters: {}\".format(grid.best_params_))\n",
    "'''"
   ]
  },
  {
   "cell_type": "code",
   "execution_count": null,
   "id": "f4dfcb08-332b-46a5-8def-b20b34c5e3d0",
   "metadata": {},
   "outputs": [],
   "source": [
    "inception_network = InceptionTimeClassifier(n_epochs=10, verbose=True,n_filters = 32,batch_size = 8, depth = 2 )\n",
    "inception_network.fit(X_train,y_train)\n",
    "name = pre_name+\"inception.h5\"\n",
    "inception_network.model_.save(name)\n",
    "convertH5TFlite(name)\n"
   ]
  },
  {
   "cell_type": "code",
   "execution_count": null,
   "id": "566be761-3918-429a-b342-47bc2bf8b5c8",
   "metadata": {},
   "outputs": [],
   "source": [
    "y_columns_walk_other_p = inception_network.model_.predict(X_columns_walk_other)\n",
    "print(confusion_matrix(y_columns_walk_other,np.argmax(y_columns_walk_other_p,axis=1) ))\n",
    "\n",
    "y_valid_p = inception_network.model_.predict(X_valid.transpose(0, 2, 1))\n",
    "print(confusion_matrix(y_valid,np.argmax(y_valid_p,axis=1) ))\n",
    "\n"
   ]
  },
  {
   "cell_type": "code",
   "execution_count": null,
   "id": "166fd748-ff5a-441a-a094-a05794d3b090",
   "metadata": {},
   "outputs": [],
   "source": [
    "fcn_network = FCNClassifier(n_epochs=6, verbose=True,batch_size=32)\n",
    "fcn_network.fit(X_train,y_train)\n",
    "\n",
    "name = pre_name+\"fcn.h5\"\n",
    "fcn_network.model_.save(name)\n",
    "convertH5TFlite(name)"
   ]
  },
  {
   "cell_type": "code",
   "execution_count": null,
   "id": "0cac1f75-e6e6-4736-8ad8-3d9076cc4b78",
   "metadata": {},
   "outputs": [],
   "source": [
    "y_columns_walk_other_p = fcn_network.model_.predict(X_columns_walk_other)\n",
    "print(confusion_matrix(y_columns_walk_other,np.argmax(y_columns_walk_other_p,axis=1) ))\n",
    "\n",
    "y_valid_p = fcn_network.model_.predict(X_valid.transpose(0, 2, 1))\n",
    "print(confusion_matrix(y_valid,np.argmax(y_valid_p,axis=1) ))\n",
    "\n"
   ]
  },
  {
   "cell_type": "code",
   "execution_count": 5,
   "id": "9df67da3-12c5-433f-b46b-c2b97261336f",
   "metadata": {},
   "outputs": [
    {
     "name": "stdout",
     "output_type": "stream",
     "text": [
      "Model: \"model_1\"\n",
      "__________________________________________________________________________________________________\n",
      " Layer (type)                   Output Shape         Param #     Connected to                     \n",
      "==================================================================================================\n",
      " input_2 (InputLayer)           [(None, 200, 3)]     0           []                               \n",
      "                                                                                                  \n",
      " conv1d_2 (Conv1D)              (None, 200, 64)      1600        ['input_2[0][0]']                \n",
      "                                                                                                  \n",
      " batch_normalization (BatchNorm  (None, 200, 64)     256         ['conv1d_2[0][0]']               \n",
      " alization)                                                                                       \n",
      "                                                                                                  \n",
      " activation (Activation)        (None, 200, 64)      0           ['batch_normalization[0][0]']    \n",
      "                                                                                                  \n",
      " conv1d_3 (Conv1D)              (None, 200, 64)      20544       ['activation[0][0]']             \n",
      "                                                                                                  \n",
      " batch_normalization_1 (BatchNo  (None, 200, 64)     256         ['conv1d_3[0][0]']               \n",
      " rmalization)                                                                                     \n",
      "                                                                                                  \n",
      " activation_1 (Activation)      (None, 200, 64)      0           ['batch_normalization_1[0][0]']  \n",
      "                                                                                                  \n",
      " conv1d_5 (Conv1D)              (None, 200, 64)      256         ['input_2[0][0]']                \n",
      "                                                                                                  \n",
      " conv1d_4 (Conv1D)              (None, 200, 64)      12352       ['activation_1[0][0]']           \n",
      "                                                                                                  \n",
      " batch_normalization_3 (BatchNo  (None, 200, 64)     256         ['conv1d_5[0][0]']               \n",
      " rmalization)                                                                                     \n",
      "                                                                                                  \n",
      " batch_normalization_2 (BatchNo  (None, 200, 64)     256         ['conv1d_4[0][0]']               \n",
      " rmalization)                                                                                     \n",
      "                                                                                                  \n",
      " add (Add)                      (None, 200, 64)      0           ['batch_normalization_3[0][0]',  \n",
      "                                                                  'batch_normalization_2[0][0]']  \n",
      "                                                                                                  \n",
      " activation_2 (Activation)      (None, 200, 64)      0           ['add[0][0]']                    \n",
      "                                                                                                  \n",
      " conv1d_6 (Conv1D)              (None, 200, 128)     65664       ['activation_2[0][0]']           \n",
      "                                                                                                  \n",
      " batch_normalization_4 (BatchNo  (None, 200, 128)    512         ['conv1d_6[0][0]']               \n",
      " rmalization)                                                                                     \n",
      "                                                                                                  \n",
      " activation_3 (Activation)      (None, 200, 128)     0           ['batch_normalization_4[0][0]']  \n",
      "                                                                                                  \n",
      " conv1d_7 (Conv1D)              (None, 200, 128)     82048       ['activation_3[0][0]']           \n",
      "                                                                                                  \n",
      " batch_normalization_5 (BatchNo  (None, 200, 128)    512         ['conv1d_7[0][0]']               \n",
      " rmalization)                                                                                     \n",
      "                                                                                                  \n",
      " activation_4 (Activation)      (None, 200, 128)     0           ['batch_normalization_5[0][0]']  \n",
      "                                                                                                  \n",
      " conv1d_9 (Conv1D)              (None, 200, 128)     8320        ['activation_2[0][0]']           \n",
      "                                                                                                  \n",
      " conv1d_8 (Conv1D)              (None, 200, 128)     49280       ['activation_4[0][0]']           \n",
      "                                                                                                  \n",
      " batch_normalization_7 (BatchNo  (None, 200, 128)    512         ['conv1d_9[0][0]']               \n",
      " rmalization)                                                                                     \n",
      "                                                                                                  \n",
      " batch_normalization_6 (BatchNo  (None, 200, 128)    512         ['conv1d_8[0][0]']               \n",
      " rmalization)                                                                                     \n",
      "                                                                                                  \n",
      " add_1 (Add)                    (None, 200, 128)     0           ['batch_normalization_7[0][0]',  \n",
      "                                                                  'batch_normalization_6[0][0]']  \n",
      "                                                                                                  \n",
      " activation_5 (Activation)      (None, 200, 128)     0           ['add_1[0][0]']                  \n",
      "                                                                                                  \n",
      " conv1d_10 (Conv1D)             (None, 200, 128)     131200      ['activation_5[0][0]']           \n",
      "                                                                                                  \n",
      " batch_normalization_8 (BatchNo  (None, 200, 128)    512         ['conv1d_10[0][0]']              \n",
      " rmalization)                                                                                     \n",
      "                                                                                                  \n",
      " activation_6 (Activation)      (None, 200, 128)     0           ['batch_normalization_8[0][0]']  \n",
      "                                                                                                  \n",
      " conv1d_11 (Conv1D)             (None, 200, 128)     82048       ['activation_6[0][0]']           \n",
      "                                                                                                  \n",
      " batch_normalization_9 (BatchNo  (None, 200, 128)    512         ['conv1d_11[0][0]']              \n",
      " rmalization)                                                                                     \n",
      "                                                                                                  \n",
      " activation_7 (Activation)      (None, 200, 128)     0           ['batch_normalization_9[0][0]']  \n",
      "                                                                                                  \n",
      " conv1d_12 (Conv1D)             (None, 200, 128)     49280       ['activation_7[0][0]']           \n",
      "                                                                                                  \n",
      " batch_normalization_11 (BatchN  (None, 200, 128)    512         ['activation_5[0][0]']           \n",
      " ormalization)                                                                                    \n",
      "                                                                                                  \n",
      " batch_normalization_10 (BatchN  (None, 200, 128)    512         ['conv1d_12[0][0]']              \n",
      " ormalization)                                                                                    \n",
      "                                                                                                  \n",
      " add_2 (Add)                    (None, 200, 128)     0           ['batch_normalization_11[0][0]', \n",
      "                                                                  'batch_normalization_10[0][0]'] \n",
      "                                                                                                  \n",
      " activation_8 (Activation)      (None, 200, 128)     0           ['add_2[0][0]']                  \n",
      "                                                                                                  \n",
      " global_average_pooling1d (Glob  (None, 128)         0           ['activation_8[0][0]']           \n",
      " alAveragePooling1D)                                                                              \n",
      "                                                                                                  \n",
      " dense_1 (Dense)                (None, 2)            258         ['global_average_pooling1d[0][0]'\n",
      "                                                                 ]                                \n",
      "                                                                                                  \n",
      "==================================================================================================\n",
      "Total params: 507,970\n",
      "Trainable params: 505,410\n",
      "Non-trainable params: 2,560\n",
      "__________________________________________________________________________________________________\n",
      "Epoch 1/6\n",
      "882/882 [==============================] - 53s 51ms/step - loss: 0.0824 - accuracy: 0.9691\n",
      "Epoch 2/6\n",
      "882/882 [==============================] - 36s 41ms/step - loss: 0.0329 - accuracy: 0.9886\n",
      "Epoch 3/6\n",
      "882/882 [==============================] - 39s 44ms/step - loss: 0.0282 - accuracy: 0.9900\n",
      "Epoch 4/6\n",
      "882/882 [==============================] - 45s 51ms/step - loss: 0.0199 - accuracy: 0.9930\n",
      "Epoch 5/6\n",
      "882/882 [==============================] - 42s 48ms/step - loss: 0.0223 - accuracy: 0.9922\n",
      "Epoch 6/6\n",
      "882/882 [==============================] - 42s 47ms/step - loss: 0.0143 - accuracy: 0.9947\n"
     ]
    },
    {
     "name": "stderr",
     "output_type": "stream",
     "text": [
      "WARNING:absl:Found untraced functions such as _jit_compiled_convolution_op, _jit_compiled_convolution_op, _jit_compiled_convolution_op, _jit_compiled_convolution_op, _jit_compiled_convolution_op while saving (showing 5 of 11). These functions will not be directly callable after loading.\n"
     ]
    },
    {
     "name": "stdout",
     "output_type": "stream",
     "text": [
      "INFO:tensorflow:Assets written to: C:\\Users\\li_fr\\AppData\\Local\\Temp\\tmp866h9nio\\assets\n"
     ]
    },
    {
     "name": "stderr",
     "output_type": "stream",
     "text": [
      "INFO:tensorflow:Assets written to: C:\\Users\\li_fr\\AppData\\Local\\Temp\\tmp866h9nio\\assets\n"
     ]
    }
   ],
   "source": [
    "resnet_network = ResNetClassifier(n_epochs=6, verbose=True,batch_size = 64)\n",
    "resnet_network.fit(X_train,y_train)\n",
    "\n",
    "name = pre_name+\"resnet.h5\"\n",
    "resnet_network.model_.save(name)\n",
    "convertH5TFlite(name)"
   ]
  },
  {
   "cell_type": "code",
   "execution_count": 6,
   "id": "89f0ee40-a44a-4909-a8e8-8f24a4b26e81",
   "metadata": {},
   "outputs": [
    {
     "name": "stdout",
     "output_type": "stream",
     "text": [
      "2336/2336 [==============================] - 37s 15ms/step\n",
      "[[    0     0]\n",
      " [ 3617 71113]]\n",
      "342/342 [==============================] - 5s 15ms/step\n",
      "[[4041   29]\n",
      " [ 440 6415]]\n"
     ]
    }
   ],
   "source": [
    "y_columns_walk_other_p = resnet_network.model_.predict(X_columns_walk_other)\n",
    "print(confusion_matrix(y_columns_walk_other,np.argmax(y_columns_walk_other_p,axis=1) ))\n",
    "\n",
    "y_valid_p = resnet_network.model_.predict(X_valid.transpose(0, 2, 1))\n",
    "print(confusion_matrix(y_valid,np.argmax(y_valid_p,axis=1) ))\n",
    "\n"
   ]
  },
  {
   "cell_type": "code",
   "execution_count": 7,
   "id": "090748f9-6bb2-46b8-8407-ee309825f66a",
   "metadata": {},
   "outputs": [
    {
     "name": "stdout",
     "output_type": "stream",
     "text": [
      "Model: \"model_2\"\n",
      "__________________________________________________________________________________________________\n",
      " Layer (type)                   Output Shape         Param #     Connected to                     \n",
      "==================================================================================================\n",
      " input_3 (InputLayer)           [(None, 200, 3)]     0           []                               \n",
      "                                                                                                  \n",
      " conv1d_13 (Conv1D)             (None, 200, 16)      160         ['input_3[0][0]']                \n",
      "                                                                                                  \n",
      " conv1d_14 (Conv1D)             (None, 200, 16)      256         ['input_3[0][0]']                \n",
      "                                                                                                  \n",
      " conv1d_15 (Conv1D)             (None, 200, 16)      352         ['input_3[0][0]']                \n",
      "                                                                                                  \n",
      " concatenate (Concatenate)      (None, 200, 48)      0           ['conv1d_13[0][0]',              \n",
      "                                                                  'conv1d_14[0][0]',              \n",
      "                                                                  'conv1d_15[0][0]']              \n",
      "                                                                                                  \n",
      " batch_normalization_12 (BatchN  (None, 200, 48)     192         ['concatenate[0][0]']            \n",
      " ormalization)                                                                                    \n",
      "                                                                                                  \n",
      " activation_9 (Activation)      (None, 200, 48)      0           ['batch_normalization_12[0][0]'] \n",
      "                                                                                                  \n",
      " tf.math.reduce_mean (TFOpLambd  (None, 48)          0           ['activation_9[0][0]']           \n",
      " a)                                                                                               \n",
      "                                                                                                  \n",
      " dense_2 (Dense)                (None, 12)           576         ['tf.math.reduce_mean[0][0]']    \n",
      "                                                                                                  \n",
      " dense_3 (Dense)                (None, 48)           576         ['dense_2[0][0]']                \n",
      "                                                                                                  \n",
      " tf.reshape (TFOpLambda)        (None, 1, 48)        0           ['dense_3[0][0]']                \n",
      "                                                                                                  \n",
      " tf.math.multiply (TFOpLambda)  (None, 200, 48)      0           ['activation_9[0][0]',           \n",
      "                                                                  'tf.reshape[0][0]']             \n",
      "                                                                                                  \n",
      " max_pooling1d (MaxPooling1D)   (None, 100, 48)      0           ['tf.math.multiply[0][0]']       \n",
      "                                                                                                  \n",
      " conv1d_16 (Conv1D)             (None, 100, 32)      4640        ['max_pooling1d[0][0]']          \n",
      "                                                                                                  \n",
      " conv1d_17 (Conv1D)             (None, 100, 32)      7712        ['max_pooling1d[0][0]']          \n",
      "                                                                                                  \n",
      " conv1d_18 (Conv1D)             (None, 100, 32)      10784       ['max_pooling1d[0][0]']          \n",
      "                                                                                                  \n",
      " concatenate_1 (Concatenate)    (None, 100, 96)      0           ['conv1d_16[0][0]',              \n",
      "                                                                  'conv1d_17[0][0]',              \n",
      "                                                                  'conv1d_18[0][0]']              \n",
      "                                                                                                  \n",
      " batch_normalization_13 (BatchN  (None, 100, 96)     384         ['concatenate_1[0][0]']          \n",
      " ormalization)                                                                                    \n",
      "                                                                                                  \n",
      " activation_10 (Activation)     (None, 100, 96)      0           ['batch_normalization_13[0][0]'] \n",
      "                                                                                                  \n",
      " tf.math.reduce_mean_1 (TFOpLam  (None, 96)          0           ['activation_10[0][0]']          \n",
      " bda)                                                                                             \n",
      "                                                                                                  \n",
      " dense_4 (Dense)                (None, 24)           2304        ['tf.math.reduce_mean_1[0][0]']  \n",
      "                                                                                                  \n",
      " dense_5 (Dense)                (None, 96)           2304        ['dense_4[0][0]']                \n",
      "                                                                                                  \n",
      " tf.reshape_1 (TFOpLambda)      (None, 1, 96)        0           ['dense_5[0][0]']                \n",
      "                                                                                                  \n",
      " tf.math.multiply_1 (TFOpLambda  (None, 100, 96)     0           ['activation_10[0][0]',          \n",
      " )                                                                'tf.reshape_1[0][0]']           \n",
      "                                                                                                  \n",
      " max_pooling1d_1 (MaxPooling1D)  (None, 50, 96)      0           ['tf.math.multiply_1[0][0]']     \n",
      "                                                                                                  \n",
      " conv1d_19 (Conv1D)             (None, 50, 64)       18496       ['max_pooling1d_1[0][0]']        \n",
      "                                                                                                  \n",
      " conv1d_20 (Conv1D)             (None, 50, 64)       30784       ['max_pooling1d_1[0][0]']        \n",
      "                                                                                                  \n",
      " conv1d_21 (Conv1D)             (None, 50, 64)       43072       ['max_pooling1d_1[0][0]']        \n",
      "                                                                                                  \n",
      " concatenate_2 (Concatenate)    (None, 50, 192)      0           ['conv1d_19[0][0]',              \n",
      "                                                                  'conv1d_20[0][0]',              \n",
      "                                                                  'conv1d_21[0][0]']              \n",
      "                                                                                                  \n",
      " batch_normalization_14 (BatchN  (None, 50, 192)     768         ['concatenate_2[0][0]']          \n",
      " ormalization)                                                                                    \n",
      "                                                                                                  \n",
      " activation_11 (Activation)     (None, 50, 192)      0           ['batch_normalization_14[0][0]'] \n",
      "                                                                                                  \n",
      " tf.math.reduce_mean_2 (TFOpLam  (None, 192)         0           ['activation_11[0][0]']          \n",
      " bda)                                                                                             \n",
      "                                                                                                  \n",
      " dense_6 (Dense)                (None, 48)           9216        ['tf.math.reduce_mean_2[0][0]']  \n",
      "                                                                                                  \n",
      " dense_7 (Dense)                (None, 192)          9216        ['dense_6[0][0]']                \n",
      "                                                                                                  \n",
      " tf.reshape_2 (TFOpLambda)      (None, 1, 192)       0           ['dense_7[0][0]']                \n",
      "                                                                                                  \n",
      " tf.math.multiply_2 (TFOpLambda  (None, 50, 192)     0           ['activation_11[0][0]',          \n",
      " )                                                                'tf.reshape_2[0][0]']           \n",
      "                                                                                                  \n",
      " tf.math.reduce_mean_3 (TFOpLam  (None, 192)         0           ['tf.math.multiply_2[0][0]']     \n",
      " bda)                                                                                             \n",
      "                                                                                                  \n",
      " dense_8 (Dense)                (None, 2)            386         ['tf.math.reduce_mean_3[0][0]']  \n",
      "                                                                                                  \n",
      "==================================================================================================\n",
      "Total params: 142,178\n",
      "Trainable params: 141,506\n",
      "Non-trainable params: 672\n",
      "__________________________________________________________________________________________________\n",
      "Epoch 1/6\n",
      "1763/1763 [==============================] - 52s 26ms/step - loss: 0.2357 - accuracy: 0.8850\n",
      "Epoch 2/6\n",
      "1763/1763 [==============================] - 42s 24ms/step - loss: 0.0514 - accuracy: 0.9820\n",
      "Epoch 3/6\n",
      "1763/1763 [==============================] - 40s 23ms/step - loss: 0.0334 - accuracy: 0.9882\n",
      "Epoch 4/6\n",
      "1763/1763 [==============================] - 41s 23ms/step - loss: 0.0263 - accuracy: 0.9909\n",
      "Epoch 5/6\n",
      "1763/1763 [==============================] - 44s 25ms/step - loss: 0.0195 - accuracy: 0.9930\n",
      "Epoch 6/6\n",
      "1763/1763 [==============================] - 42s 24ms/step - loss: 0.0170 - accuracy: 0.9939\n"
     ]
    },
    {
     "name": "stderr",
     "output_type": "stream",
     "text": [
      "WARNING:absl:Found untraced functions such as _jit_compiled_convolution_op, _jit_compiled_convolution_op, _jit_compiled_convolution_op, _jit_compiled_convolution_op, _jit_compiled_convolution_op while saving (showing 5 of 9). These functions will not be directly callable after loading.\n"
     ]
    },
    {
     "name": "stdout",
     "output_type": "stream",
     "text": [
      "INFO:tensorflow:Assets written to: C:\\Users\\li_fr\\AppData\\Local\\Temp\\tmpsfcatmc7\\assets\n"
     ]
    },
    {
     "name": "stderr",
     "output_type": "stream",
     "text": [
      "INFO:tensorflow:Assets written to: C:\\Users\\li_fr\\AppData\\Local\\Temp\\tmpsfcatmc7\\assets\n"
     ]
    }
   ],
   "source": [
    "macnn_network = MACNNClassifier(n_epochs=6, verbose=True,batch_size = 32,repeats=1,filter_sizes=[16,32,64],kernel_size=(3, 5, 7),reduction=4)\n",
    "macnn_network.fit(X_train,y_train)\n",
    "\n",
    "name = pre_name+\"macnn.h5\"\n",
    "macnn_network.model_.save(name)\n",
    "convertH5TFlite(name)"
   ]
  },
  {
   "cell_type": "code",
   "execution_count": 8,
   "id": "a9d035d1-4490-4012-a5d3-69dfffe11bae",
   "metadata": {},
   "outputs": [
    {
     "name": "stdout",
     "output_type": "stream",
     "text": [
      "2336/2336 [==============================] - 22s 9ms/step\n",
      "[[    0     0]\n",
      " [   62 74668]]\n",
      "342/342 [==============================] - 3s 9ms/step\n",
      "[[4028   42]\n",
      " [  76 6779]]\n"
     ]
    }
   ],
   "source": [
    "y_columns_walk_other_p = macnn_network.model_.predict(X_columns_walk_other)\n",
    "print(confusion_matrix(y_columns_walk_other,np.argmax(y_columns_walk_other_p,axis=1) ))\n",
    "\n",
    "y_valid_p = macnn_network.model_.predict(X_valid.transpose(0, 2, 1))\n",
    "print(confusion_matrix(y_valid,np.argmax(y_valid_p,axis=1) ))"
   ]
  },
  {
   "cell_type": "code",
   "execution_count": 10,
   "id": "11bff868-7b5f-4041-8648-3eed62a9c878",
   "metadata": {},
   "outputs": [
    {
     "name": "stdout",
     "output_type": "stream",
     "text": [
      "Model: \"model_4\"\n",
      "__________________________________________________________________________________________________\n",
      " Layer (type)                   Output Shape         Param #     Connected to                     \n",
      "==================================================================================================\n",
      " input_5 (InputLayer)           [(None, 200, 3)]     0           []                               \n",
      "                                                                                                  \n",
      " conv1d_31 (Conv1D)             (None, 200, 8)       80          ['input_5[0][0]']                \n",
      "                                                                                                  \n",
      " conv1d_32 (Conv1D)             (None, 200, 8)       128         ['input_5[0][0]']                \n",
      "                                                                                                  \n",
      " conv1d_33 (Conv1D)             (None, 200, 8)       176         ['input_5[0][0]']                \n",
      "                                                                                                  \n",
      " concatenate_6 (Concatenate)    (None, 200, 24)      0           ['conv1d_31[0][0]',              \n",
      "                                                                  'conv1d_32[0][0]',              \n",
      "                                                                  'conv1d_33[0][0]']              \n",
      "                                                                                                  \n",
      " batch_normalization_18 (BatchN  (None, 200, 24)     96          ['concatenate_6[0][0]']          \n",
      " ormalization)                                                                                    \n",
      "                                                                                                  \n",
      " activation_15 (Activation)     (None, 200, 24)      0           ['batch_normalization_18[0][0]'] \n",
      "                                                                                                  \n",
      " tf.math.reduce_mean_8 (TFOpLam  (None, 24)          0           ['activation_15[0][0]']          \n",
      " bda)                                                                                             \n",
      "                                                                                                  \n",
      " dense_16 (Dense)               (None, 12)           288         ['tf.math.reduce_mean_8[0][0]']  \n",
      "                                                                                                  \n",
      " dense_17 (Dense)               (None, 24)           288         ['dense_16[0][0]']               \n",
      "                                                                                                  \n",
      " tf.reshape_6 (TFOpLambda)      (None, 1, 24)        0           ['dense_17[0][0]']               \n",
      "                                                                                                  \n",
      " tf.math.multiply_6 (TFOpLambda  (None, 200, 24)     0           ['activation_15[0][0]',          \n",
      " )                                                                'tf.reshape_6[0][0]']           \n",
      "                                                                                                  \n",
      " max_pooling1d_4 (MaxPooling1D)  (None, 100, 24)     0           ['tf.math.multiply_6[0][0]']     \n",
      "                                                                                                  \n",
      " conv1d_34 (Conv1D)             (None, 100, 16)      1168        ['max_pooling1d_4[0][0]']        \n",
      "                                                                                                  \n",
      " conv1d_35 (Conv1D)             (None, 100, 16)      1936        ['max_pooling1d_4[0][0]']        \n",
      "                                                                                                  \n",
      " conv1d_36 (Conv1D)             (None, 100, 16)      2704        ['max_pooling1d_4[0][0]']        \n",
      "                                                                                                  \n",
      " concatenate_7 (Concatenate)    (None, 100, 48)      0           ['conv1d_34[0][0]',              \n",
      "                                                                  'conv1d_35[0][0]',              \n",
      "                                                                  'conv1d_36[0][0]']              \n",
      "                                                                                                  \n",
      " batch_normalization_19 (BatchN  (None, 100, 48)     192         ['concatenate_7[0][0]']          \n",
      " ormalization)                                                                                    \n",
      "                                                                                                  \n",
      " activation_16 (Activation)     (None, 100, 48)      0           ['batch_normalization_19[0][0]'] \n",
      "                                                                                                  \n",
      " tf.math.reduce_mean_9 (TFOpLam  (None, 48)          0           ['activation_16[0][0]']          \n",
      " bda)                                                                                             \n",
      "                                                                                                  \n",
      " dense_18 (Dense)               (None, 24)           1152        ['tf.math.reduce_mean_9[0][0]']  \n",
      "                                                                                                  \n",
      " dense_19 (Dense)               (None, 48)           1152        ['dense_18[0][0]']               \n",
      "                                                                                                  \n",
      " tf.reshape_7 (TFOpLambda)      (None, 1, 48)        0           ['dense_19[0][0]']               \n",
      "                                                                                                  \n",
      " tf.math.multiply_7 (TFOpLambda  (None, 100, 48)     0           ['activation_16[0][0]',          \n",
      " )                                                                'tf.reshape_7[0][0]']           \n",
      "                                                                                                  \n",
      " max_pooling1d_5 (MaxPooling1D)  (None, 50, 48)      0           ['tf.math.multiply_7[0][0]']     \n",
      "                                                                                                  \n",
      " conv1d_37 (Conv1D)             (None, 50, 32)       4640        ['max_pooling1d_5[0][0]']        \n",
      "                                                                                                  \n",
      " conv1d_38 (Conv1D)             (None, 50, 32)       7712        ['max_pooling1d_5[0][0]']        \n",
      "                                                                                                  \n",
      " conv1d_39 (Conv1D)             (None, 50, 32)       10784       ['max_pooling1d_5[0][0]']        \n",
      "                                                                                                  \n",
      " concatenate_8 (Concatenate)    (None, 50, 96)       0           ['conv1d_37[0][0]',              \n",
      "                                                                  'conv1d_38[0][0]',              \n",
      "                                                                  'conv1d_39[0][0]']              \n",
      "                                                                                                  \n",
      " batch_normalization_20 (BatchN  (None, 50, 96)      384         ['concatenate_8[0][0]']          \n",
      " ormalization)                                                                                    \n",
      "                                                                                                  \n",
      " activation_17 (Activation)     (None, 50, 96)       0           ['batch_normalization_20[0][0]'] \n",
      "                                                                                                  \n",
      " tf.math.reduce_mean_10 (TFOpLa  (None, 96)          0           ['activation_17[0][0]']          \n",
      " mbda)                                                                                            \n",
      "                                                                                                  \n",
      " dense_20 (Dense)               (None, 48)           4608        ['tf.math.reduce_mean_10[0][0]'] \n",
      "                                                                                                  \n",
      " dense_21 (Dense)               (None, 96)           4608        ['dense_20[0][0]']               \n",
      "                                                                                                  \n",
      " tf.reshape_8 (TFOpLambda)      (None, 1, 96)        0           ['dense_21[0][0]']               \n",
      "                                                                                                  \n",
      " tf.math.multiply_8 (TFOpLambda  (None, 50, 96)      0           ['activation_17[0][0]',          \n",
      " )                                                                'tf.reshape_8[0][0]']           \n",
      "                                                                                                  \n",
      " tf.math.reduce_mean_11 (TFOpLa  (None, 96)          0           ['tf.math.multiply_8[0][0]']     \n",
      " mbda)                                                                                            \n",
      "                                                                                                  \n",
      " dense_22 (Dense)               (None, 2)            194         ['tf.math.reduce_mean_11[0][0]'] \n",
      "                                                                                                  \n",
      "==================================================================================================\n",
      "Total params: 42,290\n",
      "Trainable params: 41,954\n",
      "Non-trainable params: 336\n",
      "__________________________________________________________________________________________________\n",
      "Epoch 1/6\n",
      "1763/1763 [==============================] - 44s 22ms/step - loss: 0.3072 - accuracy: 0.8449\n",
      "Epoch 2/6\n",
      "1763/1763 [==============================] - 36s 20ms/step - loss: 0.0982 - accuracy: 0.9646\n",
      "Epoch 3/6\n",
      "1763/1763 [==============================] - 35s 20ms/step - loss: 0.0676 - accuracy: 0.9762\n",
      "Epoch 4/6\n",
      "1763/1763 [==============================] - 39s 22ms/step - loss: 0.0556 - accuracy: 0.9810\n",
      "Epoch 5/6\n",
      "1763/1763 [==============================] - 36s 21ms/step - loss: 0.0461 - accuracy: 0.9836\n",
      "Epoch 6/6\n",
      "1763/1763 [==============================] - 39s 22ms/step - loss: 0.0392 - accuracy: 0.9860\n"
     ]
    },
    {
     "name": "stderr",
     "output_type": "stream",
     "text": [
      "WARNING:absl:Found untraced functions such as _jit_compiled_convolution_op, _jit_compiled_convolution_op, _jit_compiled_convolution_op, _jit_compiled_convolution_op, _jit_compiled_convolution_op while saving (showing 5 of 9). These functions will not be directly callable after loading.\n"
     ]
    },
    {
     "name": "stdout",
     "output_type": "stream",
     "text": [
      "INFO:tensorflow:Assets written to: C:\\Users\\li_fr\\AppData\\Local\\Temp\\tmprskcfvg_\\assets\n"
     ]
    },
    {
     "name": "stderr",
     "output_type": "stream",
     "text": [
      "INFO:tensorflow:Assets written to: C:\\Users\\li_fr\\AppData\\Local\\Temp\\tmprskcfvg_\\assets\n"
     ]
    }
   ],
   "source": [
    "macnn_network2 = MACNNClassifier(n_epochs=6, verbose=True,batch_size = 32,repeats=1,filter_sizes=[8,16,32],kernel_size=(3, 5, 7),reduction=2)\n",
    "macnn_network2.fit(X_train,y_train)\n",
    "\n",
    "name = pre_name+\"macnn2.h5\"\n",
    "macnn_network2.model_.save(name)\n",
    "convertH5TFlite(name)"
   ]
  },
  {
   "cell_type": "code",
   "execution_count": 11,
   "id": "f64f7f90-af67-4d39-b137-688756f08a7a",
   "metadata": {},
   "outputs": [
    {
     "name": "stdout",
     "output_type": "stream",
     "text": [
      "2336/2336 [==============================] - 19s 8ms/step\n",
      "[[    0     0]\n",
      " [  280 74450]]\n",
      "342/342 [==============================] - 3s 9ms/step\n",
      "[[4007   63]\n",
      " [  73 6782]]\n"
     ]
    }
   ],
   "source": [
    "y_columns_walk_other_p = macnn_network2.model_.predict(X_columns_walk_other)\n",
    "print(confusion_matrix(y_columns_walk_other,np.argmax(y_columns_walk_other_p,axis=1) ))\n",
    "\n",
    "y_valid_p = macnn_network2.model_.predict(X_valid.transpose(0, 2, 1))\n",
    "print(confusion_matrix(y_valid,np.argmax(y_valid_p,axis=1) ))"
   ]
  },
  {
   "cell_type": "code",
   "execution_count": null,
   "id": "a6c4c4c3-f717-4210-9cd3-3462add6cc93",
   "metadata": {},
   "outputs": [],
   "source": []
  },
  {
   "cell_type": "code",
   "execution_count": null,
   "id": "9089f16b-74b7-4919-900b-954b37d48fe0",
   "metadata": {},
   "outputs": [],
   "source": []
  },
  {
   "cell_type": "code",
   "execution_count": null,
   "id": "3cdd6d5e-ca7a-49a4-81ed-db3bbe2284ad",
   "metadata": {},
   "outputs": [],
   "source": []
  }
 ],
 "metadata": {
  "kernelspec": {
   "display_name": "Python 3 (ipykernel)",
   "language": "python",
   "name": "python3"
  },
  "language_info": {
   "codemirror_mode": {
    "name": "ipython",
    "version": 3
   },
   "file_extension": ".py",
   "mimetype": "text/x-python",
   "name": "python",
   "nbconvert_exporter": "python",
   "pygments_lexer": "ipython3",
   "version": "3.9.18"
  }
 },
 "nbformat": 4,
 "nbformat_minor": 5
}
